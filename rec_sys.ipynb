{
 "cells": [
  {
   "cell_type": "markdown",
   "metadata": {},
   "source": [
    "# Recommendation System"
   ]
  },
  {
   "cell_type": "markdown",
   "metadata": {},
   "source": [
    "## Introduction\n",
    "\n",
    "The data set used in this project is from the UCI Machine Learning Repository and it's a transnational data set which contains all the transactions occurring between 01/12/2010 and 09/12/2011 for a UK-based and registered non-store online retail.\n",
    "https://archive.ics.uci.edu/dataset/352/online+retail\n",
    "\n",
    "## Context\n",
    "\n",
    "At a broad level, Recommender systems employ two distinct strategies, or a combination of both, to suggest content to users.\n",
    "\n",
    "1. **Collaborative Filtering:**\n",
    "   Collaborative Filtering algorithms rely on usage data, encompassing both explicit and implicit feedback from users. These systems analyze patterns in user behavior, such as product purchases or preferences, to make recommendations. In essence, collaborative filtering identifies similarities between users or items to suggest content based on the preferences of similar users.\n",
    "\n",
    "2. **Content-based Filtering:**\n",
    "   Content-based Filtering algorithms utilize content metadata and user profiles to generate recommendations. This approach involves profiling items based on their characteristics, such as genre, IMDb ratings, box-office sales, etc. Simultaneously, users are profiled based on demographic information or responses to onboarding surveys. Content-based filtering recommends items that align with a user's preferences derived from their profile.\n",
    "\n",
    "It's important to note that collaborative filtering thrives on substantial user feedback to function effectively, while content-based filtering relies heavily on detailed and accurate item descriptions to provide meaningful recommendations. These two approaches offer distinct perspectives, and their hybridization is often employed to enhance recommendation systems' accuracy and coverage.\n",
    "\n",
    "In this project, we will be using the Collaborative Filtering approach to build a recommendation system for implicit feedback data (i.e. user transactions and purchase history).\n",
    "\n",
    "Implicit user feedback encompasses a diverse range of interactions, including but not limited to browsing activity, search patterns, impressions, clicks, and even mouse movements. In contrast to explicit feedback, where users provide a clear indication of their preference degree for an item, implicit feedback lacks the same symmetry. Various factors can influence implicit feedback, making it a nuanced source of information.\n",
    "\n",
    "Consider the scenario where a user might not engage with a book. This lack of engagement could be due to disliking the book, unawareness of its existence, unavailability in their region, or the book's prohibitive cost. Unlike explicit feedback, implicit signals don't explicitly convey the reason behind user behavior, leading to potential ambiguity.\n",
    "\n",
    "One challenge in relying solely on implicit signals is the risk of bias towards positive interactions. By focusing predominantly on gathered positive signals, we may overlook valuable negative feedback. Addressing missing data becomes crucial as negative feedback might be present but not explicitly expressed. Unfortunately, this shift may result in a denser matrix, eliminating the sparsity that often allows for efficient algorithmic optimizations.\n",
    "\n",
    "Implicit feedback introduces inherent noise into the system. For instance, a user may have purchased an item as a gift, watched a movie in a theater but slept through it, or missed a TV show due to a simultaneous live sports event. These complexities highlight the need for careful consideration and nuanced interpretation when working with implicit feedback, as it introduces uncertainties that explicit feedback might not encompass.\n",
    "\n"
   ]
  },
  {
   "cell_type": "markdown",
   "metadata": {},
   "source": [
    "# Install required libraries"
   ]
  },
  {
   "cell_type": "code",
   "execution_count": null,
   "metadata": {},
   "outputs": [],
   "source": [
    "%pip install -r requirements.txt"
   ]
  },
  {
   "cell_type": "markdown",
   "metadata": {},
   "source": [
    "## Libraries\n",
    "\n"
   ]
  },
  {
   "cell_type": "code",
   "execution_count": 59,
   "metadata": {},
   "outputs": [],
   "source": [
    "import os\n",
    "import pandas as pd\n",
    "import numpy as np\n",
    "import matplotlib.pyplot as plt\n",
    "import seaborn as sns\n",
    "import warnings\n",
    "\n",
    "from scipy.sparse import coo_matrix\n",
    "\n",
    "from implicit.nearest_neighbours import bm25_weight\n",
    "from implicit.als import AlternatingLeastSquares\n",
    "from implicit.evaluation import *\n",
    "\n",
    "warnings.filterwarnings('ignore')"
   ]
  },
  {
   "cell_type": "markdown",
   "metadata": {},
   "source": [
    "We will set a Random Seed for reproducibility."
   ]
  },
  {
   "cell_type": "code",
   "execution_count": 2,
   "metadata": {},
   "outputs": [],
   "source": [
    "RANDOM_SEED = 1234"
   ]
  },
  {
   "cell_type": "markdown",
   "metadata": {},
   "source": [
    "Let's load the data set and take a look at the first rows."
   ]
  },
  {
   "cell_type": "code",
   "execution_count": 3,
   "metadata": {},
   "outputs": [
    {
     "data": {
      "text/html": [
       "<div>\n",
       "<style scoped>\n",
       "    .dataframe tbody tr th:only-of-type {\n",
       "        vertical-align: middle;\n",
       "    }\n",
       "\n",
       "    .dataframe tbody tr th {\n",
       "        vertical-align: top;\n",
       "    }\n",
       "\n",
       "    .dataframe thead th {\n",
       "        text-align: right;\n",
       "    }\n",
       "</style>\n",
       "<table border=\"1\" class=\"dataframe\">\n",
       "  <thead>\n",
       "    <tr style=\"text-align: right;\">\n",
       "      <th></th>\n",
       "      <th>InvoiceNo</th>\n",
       "      <th>StockCode</th>\n",
       "      <th>Description</th>\n",
       "      <th>Quantity</th>\n",
       "      <th>InvoiceDate</th>\n",
       "      <th>UnitPrice</th>\n",
       "      <th>CustomerID</th>\n",
       "      <th>Country</th>\n",
       "    </tr>\n",
       "  </thead>\n",
       "  <tbody>\n",
       "    <tr>\n",
       "      <th>0</th>\n",
       "      <td>536365</td>\n",
       "      <td>85123A</td>\n",
       "      <td>WHITE HANGING HEART T-LIGHT HOLDER</td>\n",
       "      <td>6</td>\n",
       "      <td>2010-12-01 08:26:00</td>\n",
       "      <td>2.55</td>\n",
       "      <td>17850.0</td>\n",
       "      <td>United Kingdom</td>\n",
       "    </tr>\n",
       "    <tr>\n",
       "      <th>1</th>\n",
       "      <td>536365</td>\n",
       "      <td>71053</td>\n",
       "      <td>WHITE METAL LANTERN</td>\n",
       "      <td>6</td>\n",
       "      <td>2010-12-01 08:26:00</td>\n",
       "      <td>3.39</td>\n",
       "      <td>17850.0</td>\n",
       "      <td>United Kingdom</td>\n",
       "    </tr>\n",
       "    <tr>\n",
       "      <th>2</th>\n",
       "      <td>536365</td>\n",
       "      <td>84406B</td>\n",
       "      <td>CREAM CUPID HEARTS COAT HANGER</td>\n",
       "      <td>8</td>\n",
       "      <td>2010-12-01 08:26:00</td>\n",
       "      <td>2.75</td>\n",
       "      <td>17850.0</td>\n",
       "      <td>United Kingdom</td>\n",
       "    </tr>\n",
       "    <tr>\n",
       "      <th>3</th>\n",
       "      <td>536365</td>\n",
       "      <td>84029G</td>\n",
       "      <td>KNITTED UNION FLAG HOT WATER BOTTLE</td>\n",
       "      <td>6</td>\n",
       "      <td>2010-12-01 08:26:00</td>\n",
       "      <td>3.39</td>\n",
       "      <td>17850.0</td>\n",
       "      <td>United Kingdom</td>\n",
       "    </tr>\n",
       "    <tr>\n",
       "      <th>4</th>\n",
       "      <td>536365</td>\n",
       "      <td>84029E</td>\n",
       "      <td>RED WOOLLY HOTTIE WHITE HEART.</td>\n",
       "      <td>6</td>\n",
       "      <td>2010-12-01 08:26:00</td>\n",
       "      <td>3.39</td>\n",
       "      <td>17850.0</td>\n",
       "      <td>United Kingdom</td>\n",
       "    </tr>\n",
       "  </tbody>\n",
       "</table>\n",
       "</div>"
      ],
      "text/plain": [
       "  InvoiceNo StockCode                          Description  Quantity  \\\n",
       "0    536365    85123A   WHITE HANGING HEART T-LIGHT HOLDER         6   \n",
       "1    536365     71053                  WHITE METAL LANTERN         6   \n",
       "2    536365    84406B       CREAM CUPID HEARTS COAT HANGER         8   \n",
       "3    536365    84029G  KNITTED UNION FLAG HOT WATER BOTTLE         6   \n",
       "4    536365    84029E       RED WOOLLY HOTTIE WHITE HEART.         6   \n",
       "\n",
       "          InvoiceDate  UnitPrice  CustomerID         Country  \n",
       "0 2010-12-01 08:26:00       2.55     17850.0  United Kingdom  \n",
       "1 2010-12-01 08:26:00       3.39     17850.0  United Kingdom  \n",
       "2 2010-12-01 08:26:00       2.75     17850.0  United Kingdom  \n",
       "3 2010-12-01 08:26:00       3.39     17850.0  United Kingdom  \n",
       "4 2010-12-01 08:26:00       3.39     17850.0  United Kingdom  "
      ]
     },
     "execution_count": 3,
     "metadata": {},
     "output_type": "execute_result"
    }
   ],
   "source": [
    "df = pd.read_excel('Online Retail.xlsx')\n",
    "df.head(5)"
   ]
  },
  {
   "cell_type": "markdown",
   "metadata": {},
   "source": [
    "It's a transnational data set which contains all the transactions occurring between 01/12/2010 and 09/12/2011 for a UK-based and registered non-store online retail."
   ]
  },
  {
   "cell_type": "markdown",
   "metadata": {},
   "source": [
    "## Data Cleaning"
   ]
  },
  {
   "cell_type": "markdown",
   "metadata": {},
   "source": [
    "We will remove the rows that contain \"credit\" transactions, since we are only interested in the purchases. Moreover, we will remove the rows that contain missing values as well as the rows that have `POSTAGE` as the description."
   ]
  },
  {
   "cell_type": "code",
   "execution_count": 4,
   "metadata": {},
   "outputs": [
    {
     "data": {
      "text/html": [
       "<div>\n",
       "<style scoped>\n",
       "    .dataframe tbody tr th:only-of-type {\n",
       "        vertical-align: middle;\n",
       "    }\n",
       "\n",
       "    .dataframe tbody tr th {\n",
       "        vertical-align: top;\n",
       "    }\n",
       "\n",
       "    .dataframe thead th {\n",
       "        text-align: right;\n",
       "    }\n",
       "</style>\n",
       "<table border=\"1\" class=\"dataframe\">\n",
       "  <thead>\n",
       "    <tr style=\"text-align: right;\">\n",
       "      <th></th>\n",
       "      <th>InvoiceNo</th>\n",
       "      <th>StockCode</th>\n",
       "      <th>Description</th>\n",
       "      <th>Quantity</th>\n",
       "      <th>InvoiceDate</th>\n",
       "      <th>UnitPrice</th>\n",
       "      <th>CustomerID</th>\n",
       "      <th>Country</th>\n",
       "    </tr>\n",
       "  </thead>\n",
       "  <tbody>\n",
       "    <tr>\n",
       "      <th>0</th>\n",
       "      <td>536365</td>\n",
       "      <td>85123A</td>\n",
       "      <td>WHITE HANGING HEART T-LIGHT HOLDER</td>\n",
       "      <td>6</td>\n",
       "      <td>2010-12-01 08:26:00</td>\n",
       "      <td>2.55</td>\n",
       "      <td>17850.0</td>\n",
       "      <td>United Kingdom</td>\n",
       "    </tr>\n",
       "    <tr>\n",
       "      <th>1</th>\n",
       "      <td>536365</td>\n",
       "      <td>71053</td>\n",
       "      <td>WHITE METAL LANTERN</td>\n",
       "      <td>6</td>\n",
       "      <td>2010-12-01 08:26:00</td>\n",
       "      <td>3.39</td>\n",
       "      <td>17850.0</td>\n",
       "      <td>United Kingdom</td>\n",
       "    </tr>\n",
       "    <tr>\n",
       "      <th>2</th>\n",
       "      <td>536365</td>\n",
       "      <td>84406B</td>\n",
       "      <td>CREAM CUPID HEARTS COAT HANGER</td>\n",
       "      <td>8</td>\n",
       "      <td>2010-12-01 08:26:00</td>\n",
       "      <td>2.75</td>\n",
       "      <td>17850.0</td>\n",
       "      <td>United Kingdom</td>\n",
       "    </tr>\n",
       "    <tr>\n",
       "      <th>3</th>\n",
       "      <td>536365</td>\n",
       "      <td>84029G</td>\n",
       "      <td>KNITTED UNION FLAG HOT WATER BOTTLE</td>\n",
       "      <td>6</td>\n",
       "      <td>2010-12-01 08:26:00</td>\n",
       "      <td>3.39</td>\n",
       "      <td>17850.0</td>\n",
       "      <td>United Kingdom</td>\n",
       "    </tr>\n",
       "    <tr>\n",
       "      <th>4</th>\n",
       "      <td>536365</td>\n",
       "      <td>84029E</td>\n",
       "      <td>RED WOOLLY HOTTIE WHITE HEART.</td>\n",
       "      <td>6</td>\n",
       "      <td>2010-12-01 08:26:00</td>\n",
       "      <td>3.39</td>\n",
       "      <td>17850.0</td>\n",
       "      <td>United Kingdom</td>\n",
       "    </tr>\n",
       "  </tbody>\n",
       "</table>\n",
       "</div>"
      ],
      "text/plain": [
       "  InvoiceNo StockCode                          Description  Quantity  \\\n",
       "0    536365    85123A   WHITE HANGING HEART T-LIGHT HOLDER         6   \n",
       "1    536365     71053                  WHITE METAL LANTERN         6   \n",
       "2    536365    84406B       CREAM CUPID HEARTS COAT HANGER         8   \n",
       "3    536365    84029G  KNITTED UNION FLAG HOT WATER BOTTLE         6   \n",
       "4    536365    84029E       RED WOOLLY HOTTIE WHITE HEART.         6   \n",
       "\n",
       "          InvoiceDate  UnitPrice  CustomerID         Country  \n",
       "0 2010-12-01 08:26:00       2.55     17850.0  United Kingdom  \n",
       "1 2010-12-01 08:26:00       3.39     17850.0  United Kingdom  \n",
       "2 2010-12-01 08:26:00       2.75     17850.0  United Kingdom  \n",
       "3 2010-12-01 08:26:00       3.39     17850.0  United Kingdom  \n",
       "4 2010-12-01 08:26:00       3.39     17850.0  United Kingdom  "
      ]
     },
     "execution_count": 4,
     "metadata": {},
     "output_type": "execute_result"
    }
   ],
   "source": [
    "df = df[~df['InvoiceNo'].str.startswith('C', na=False)] # removed credit transactions\n",
    "df.head(5)"
   ]
  },
  {
   "cell_type": "code",
   "execution_count": 5,
   "metadata": {},
   "outputs": [],
   "source": [
    "df.dropna(inplace=True) # removed rows with missing values"
   ]
  },
  {
   "cell_type": "code",
   "execution_count": 6,
   "metadata": {},
   "outputs": [
    {
     "data": {
      "text/html": [
       "<div>\n",
       "<style scoped>\n",
       "    .dataframe tbody tr th:only-of-type {\n",
       "        vertical-align: middle;\n",
       "    }\n",
       "\n",
       "    .dataframe tbody tr th {\n",
       "        vertical-align: top;\n",
       "    }\n",
       "\n",
       "    .dataframe thead th {\n",
       "        text-align: right;\n",
       "    }\n",
       "</style>\n",
       "<table border=\"1\" class=\"dataframe\">\n",
       "  <thead>\n",
       "    <tr style=\"text-align: right;\">\n",
       "      <th></th>\n",
       "      <th>InvoiceNo</th>\n",
       "      <th>StockCode</th>\n",
       "      <th>Description</th>\n",
       "      <th>Quantity</th>\n",
       "      <th>InvoiceDate</th>\n",
       "      <th>UnitPrice</th>\n",
       "      <th>CustomerID</th>\n",
       "      <th>Country</th>\n",
       "    </tr>\n",
       "  </thead>\n",
       "  <tbody>\n",
       "    <tr>\n",
       "      <th>0</th>\n",
       "      <td>536365</td>\n",
       "      <td>85123A</td>\n",
       "      <td>WHITE HANGING HEART T-LIGHT HOLDER</td>\n",
       "      <td>6</td>\n",
       "      <td>2010-12-01 08:26:00</td>\n",
       "      <td>2.55</td>\n",
       "      <td>17850.0</td>\n",
       "      <td>United Kingdom</td>\n",
       "    </tr>\n",
       "    <tr>\n",
       "      <th>1</th>\n",
       "      <td>536365</td>\n",
       "      <td>71053</td>\n",
       "      <td>WHITE METAL LANTERN</td>\n",
       "      <td>6</td>\n",
       "      <td>2010-12-01 08:26:00</td>\n",
       "      <td>3.39</td>\n",
       "      <td>17850.0</td>\n",
       "      <td>United Kingdom</td>\n",
       "    </tr>\n",
       "    <tr>\n",
       "      <th>2</th>\n",
       "      <td>536365</td>\n",
       "      <td>84406B</td>\n",
       "      <td>CREAM CUPID HEARTS COAT HANGER</td>\n",
       "      <td>8</td>\n",
       "      <td>2010-12-01 08:26:00</td>\n",
       "      <td>2.75</td>\n",
       "      <td>17850.0</td>\n",
       "      <td>United Kingdom</td>\n",
       "    </tr>\n",
       "    <tr>\n",
       "      <th>3</th>\n",
       "      <td>536365</td>\n",
       "      <td>84029G</td>\n",
       "      <td>KNITTED UNION FLAG HOT WATER BOTTLE</td>\n",
       "      <td>6</td>\n",
       "      <td>2010-12-01 08:26:00</td>\n",
       "      <td>3.39</td>\n",
       "      <td>17850.0</td>\n",
       "      <td>United Kingdom</td>\n",
       "    </tr>\n",
       "    <tr>\n",
       "      <th>4</th>\n",
       "      <td>536365</td>\n",
       "      <td>84029E</td>\n",
       "      <td>RED WOOLLY HOTTIE WHITE HEART.</td>\n",
       "      <td>6</td>\n",
       "      <td>2010-12-01 08:26:00</td>\n",
       "      <td>3.39</td>\n",
       "      <td>17850.0</td>\n",
       "      <td>United Kingdom</td>\n",
       "    </tr>\n",
       "  </tbody>\n",
       "</table>\n",
       "</div>"
      ],
      "text/plain": [
       "  InvoiceNo StockCode                          Description  Quantity  \\\n",
       "0    536365    85123A   WHITE HANGING HEART T-LIGHT HOLDER         6   \n",
       "1    536365     71053                  WHITE METAL LANTERN         6   \n",
       "2    536365    84406B       CREAM CUPID HEARTS COAT HANGER         8   \n",
       "3    536365    84029G  KNITTED UNION FLAG HOT WATER BOTTLE         6   \n",
       "4    536365    84029E       RED WOOLLY HOTTIE WHITE HEART.         6   \n",
       "\n",
       "          InvoiceDate  UnitPrice  CustomerID         Country  \n",
       "0 2010-12-01 08:26:00       2.55     17850.0  United Kingdom  \n",
       "1 2010-12-01 08:26:00       3.39     17850.0  United Kingdom  \n",
       "2 2010-12-01 08:26:00       2.75     17850.0  United Kingdom  \n",
       "3 2010-12-01 08:26:00       3.39     17850.0  United Kingdom  \n",
       "4 2010-12-01 08:26:00       3.39     17850.0  United Kingdom  "
      ]
     },
     "execution_count": 6,
     "metadata": {},
     "output_type": "execute_result"
    }
   ],
   "source": [
    "df = df[~df['Description'].str.contains('POSTAGE')]\n",
    "df.head(5)"
   ]
  },
  {
   "cell_type": "markdown",
   "metadata": {},
   "source": [
    "Now let's see if we have any null values."
   ]
  },
  {
   "cell_type": "code",
   "execution_count": 7,
   "metadata": {},
   "outputs": [
    {
     "data": {
      "text/html": [
       "<div>\n",
       "<style scoped>\n",
       "    .dataframe tbody tr th:only-of-type {\n",
       "        vertical-align: middle;\n",
       "    }\n",
       "\n",
       "    .dataframe tbody tr th {\n",
       "        vertical-align: top;\n",
       "    }\n",
       "\n",
       "    .dataframe thead th {\n",
       "        text-align: right;\n",
       "    }\n",
       "</style>\n",
       "<table border=\"1\" class=\"dataframe\">\n",
       "  <thead>\n",
       "    <tr style=\"text-align: right;\">\n",
       "      <th></th>\n",
       "      <th>InvoiceNo</th>\n",
       "      <th>StockCode</th>\n",
       "      <th>Description</th>\n",
       "      <th>Quantity</th>\n",
       "      <th>InvoiceDate</th>\n",
       "      <th>UnitPrice</th>\n",
       "      <th>CustomerID</th>\n",
       "      <th>Country</th>\n",
       "    </tr>\n",
       "  </thead>\n",
       "  <tbody>\n",
       "  </tbody>\n",
       "</table>\n",
       "</div>"
      ],
      "text/plain": [
       "Empty DataFrame\n",
       "Columns: [InvoiceNo, StockCode, Description, Quantity, InvoiceDate, UnitPrice, CustomerID, Country]\n",
       "Index: []"
      ]
     },
     "execution_count": 7,
     "metadata": {},
     "output_type": "execute_result"
    }
   ],
   "source": [
    "df[df['CustomerID'] == 'nan']"
   ]
  },
  {
   "cell_type": "code",
   "execution_count": 8,
   "metadata": {},
   "outputs": [
    {
     "data": {
      "text/plain": [
       "InvoiceNo      0\n",
       "StockCode      0\n",
       "Description    0\n",
       "Quantity       0\n",
       "InvoiceDate    0\n",
       "UnitPrice      0\n",
       "CustomerID     0\n",
       "Country        0\n",
       "dtype: int64"
      ]
     },
     "execution_count": 8,
     "metadata": {},
     "output_type": "execute_result"
    }
   ],
   "source": [
    "df.isnull().sum()"
   ]
  },
  {
   "cell_type": "markdown",
   "metadata": {},
   "source": [
    "Good, we can now change data types for our attributes."
   ]
  },
  {
   "cell_type": "code",
   "execution_count": 9,
   "metadata": {},
   "outputs": [],
   "source": [
    "df = df.astype({\n",
    "    'InvoiceNo': 'int32',\n",
    "    'StockCode': 'str',\n",
    "    'Description': 'str',\n",
    "    'Quantity': 'int32',\n",
    "    'InvoiceDate': 'datetime64[ns]',\n",
    "    'UnitPrice': 'float32',\n",
    "    'CustomerID': 'int32',\n",
    "    'Country': 'str'\n",
    "}, copy=True)"
   ]
  },
  {
   "cell_type": "code",
   "execution_count": 10,
   "metadata": {},
   "outputs": [
    {
     "data": {
      "text/html": [
       "<div>\n",
       "<style scoped>\n",
       "    .dataframe tbody tr th:only-of-type {\n",
       "        vertical-align: middle;\n",
       "    }\n",
       "\n",
       "    .dataframe tbody tr th {\n",
       "        vertical-align: top;\n",
       "    }\n",
       "\n",
       "    .dataframe thead th {\n",
       "        text-align: right;\n",
       "    }\n",
       "</style>\n",
       "<table border=\"1\" class=\"dataframe\">\n",
       "  <thead>\n",
       "    <tr style=\"text-align: right;\">\n",
       "      <th></th>\n",
       "      <th>InvoiceNo</th>\n",
       "      <th>StockCode</th>\n",
       "      <th>Description</th>\n",
       "      <th>Quantity</th>\n",
       "      <th>InvoiceDate</th>\n",
       "      <th>UnitPrice</th>\n",
       "      <th>CustomerID</th>\n",
       "      <th>Country</th>\n",
       "    </tr>\n",
       "  </thead>\n",
       "  <tbody>\n",
       "    <tr>\n",
       "      <th>0</th>\n",
       "      <td>536365</td>\n",
       "      <td>85123A</td>\n",
       "      <td>WHITE HANGING HEART T-LIGHT HOLDER</td>\n",
       "      <td>6</td>\n",
       "      <td>2010-12-01 08:26:00</td>\n",
       "      <td>2.55</td>\n",
       "      <td>17850</td>\n",
       "      <td>United Kingdom</td>\n",
       "    </tr>\n",
       "    <tr>\n",
       "      <th>1</th>\n",
       "      <td>536365</td>\n",
       "      <td>71053</td>\n",
       "      <td>WHITE METAL LANTERN</td>\n",
       "      <td>6</td>\n",
       "      <td>2010-12-01 08:26:00</td>\n",
       "      <td>3.39</td>\n",
       "      <td>17850</td>\n",
       "      <td>United Kingdom</td>\n",
       "    </tr>\n",
       "    <tr>\n",
       "      <th>2</th>\n",
       "      <td>536365</td>\n",
       "      <td>84406B</td>\n",
       "      <td>CREAM CUPID HEARTS COAT HANGER</td>\n",
       "      <td>8</td>\n",
       "      <td>2010-12-01 08:26:00</td>\n",
       "      <td>2.75</td>\n",
       "      <td>17850</td>\n",
       "      <td>United Kingdom</td>\n",
       "    </tr>\n",
       "    <tr>\n",
       "      <th>3</th>\n",
       "      <td>536365</td>\n",
       "      <td>84029G</td>\n",
       "      <td>KNITTED UNION FLAG HOT WATER BOTTLE</td>\n",
       "      <td>6</td>\n",
       "      <td>2010-12-01 08:26:00</td>\n",
       "      <td>3.39</td>\n",
       "      <td>17850</td>\n",
       "      <td>United Kingdom</td>\n",
       "    </tr>\n",
       "    <tr>\n",
       "      <th>4</th>\n",
       "      <td>536365</td>\n",
       "      <td>84029E</td>\n",
       "      <td>RED WOOLLY HOTTIE WHITE HEART.</td>\n",
       "      <td>6</td>\n",
       "      <td>2010-12-01 08:26:00</td>\n",
       "      <td>3.39</td>\n",
       "      <td>17850</td>\n",
       "      <td>United Kingdom</td>\n",
       "    </tr>\n",
       "  </tbody>\n",
       "</table>\n",
       "</div>"
      ],
      "text/plain": [
       "   InvoiceNo StockCode                          Description  Quantity  \\\n",
       "0     536365    85123A   WHITE HANGING HEART T-LIGHT HOLDER         6   \n",
       "1     536365     71053                  WHITE METAL LANTERN         6   \n",
       "2     536365    84406B       CREAM CUPID HEARTS COAT HANGER         8   \n",
       "3     536365    84029G  KNITTED UNION FLAG HOT WATER BOTTLE         6   \n",
       "4     536365    84029E       RED WOOLLY HOTTIE WHITE HEART.         6   \n",
       "\n",
       "          InvoiceDate  UnitPrice  CustomerID         Country  \n",
       "0 2010-12-01 08:26:00       2.55       17850  United Kingdom  \n",
       "1 2010-12-01 08:26:00       3.39       17850  United Kingdom  \n",
       "2 2010-12-01 08:26:00       2.75       17850  United Kingdom  \n",
       "3 2010-12-01 08:26:00       3.39       17850  United Kingdom  \n",
       "4 2010-12-01 08:26:00       3.39       17850  United Kingdom  "
      ]
     },
     "execution_count": 10,
     "metadata": {},
     "output_type": "execute_result"
    }
   ],
   "source": [
    "df.head()"
   ]
  },
  {
   "cell_type": "markdown",
   "metadata": {},
   "source": [
    "Store the mappings of the CustomerID and StockCode for later use."
   ]
  },
  {
   "cell_type": "code",
   "execution_count": 11,
   "metadata": {},
   "outputs": [],
   "source": [
    "unique_customers = df['CustomerID'].unique()\n",
    "customer_ids = dict(zip(unique_customers, np.arange(unique_customers.shape[0])))\n",
    "\n",
    "unique_items = df['StockCode'].unique()\n",
    "item_ids = dict(zip(unique_items, np.arange(unique_items.shape[0])))"
   ]
  },
  {
   "cell_type": "code",
   "execution_count": 12,
   "metadata": {},
   "outputs": [
    {
     "data": {
      "text/html": [
       "<div>\n",
       "<style scoped>\n",
       "    .dataframe tbody tr th:only-of-type {\n",
       "        vertical-align: middle;\n",
       "    }\n",
       "\n",
       "    .dataframe tbody tr th {\n",
       "        vertical-align: top;\n",
       "    }\n",
       "\n",
       "    .dataframe thead th {\n",
       "        text-align: right;\n",
       "    }\n",
       "</style>\n",
       "<table border=\"1\" class=\"dataframe\">\n",
       "  <thead>\n",
       "    <tr style=\"text-align: right;\">\n",
       "      <th></th>\n",
       "      <th>CustomerID</th>\n",
       "      <th>StockCode</th>\n",
       "      <th>Description</th>\n",
       "      <th>Quantity</th>\n",
       "    </tr>\n",
       "  </thead>\n",
       "  <tbody>\n",
       "    <tr>\n",
       "      <th>0</th>\n",
       "      <td>12346</td>\n",
       "      <td>23166</td>\n",
       "      <td>MEDIUM CERAMIC TOP STORAGE JAR</td>\n",
       "      <td>74215</td>\n",
       "    </tr>\n",
       "    <tr>\n",
       "      <th>1</th>\n",
       "      <td>12347</td>\n",
       "      <td>16008</td>\n",
       "      <td>SMALL FOLDING SCISSOR(POINTED EDGE)</td>\n",
       "      <td>24</td>\n",
       "    </tr>\n",
       "    <tr>\n",
       "      <th>2</th>\n",
       "      <td>12347</td>\n",
       "      <td>17021</td>\n",
       "      <td>NAMASTE SWAGAT INCENSE</td>\n",
       "      <td>36</td>\n",
       "    </tr>\n",
       "    <tr>\n",
       "      <th>3</th>\n",
       "      <td>12347</td>\n",
       "      <td>20665</td>\n",
       "      <td>RED RETROSPOT PURSE</td>\n",
       "      <td>6</td>\n",
       "    </tr>\n",
       "    <tr>\n",
       "      <th>4</th>\n",
       "      <td>12347</td>\n",
       "      <td>20719</td>\n",
       "      <td>WOODLAND CHARLOTTE BAG</td>\n",
       "      <td>40</td>\n",
       "    </tr>\n",
       "  </tbody>\n",
       "</table>\n",
       "</div>"
      ],
      "text/plain": [
       "   CustomerID StockCode                          Description  Quantity\n",
       "0       12346     23166       MEDIUM CERAMIC TOP STORAGE JAR     74215\n",
       "1       12347     16008  SMALL FOLDING SCISSOR(POINTED EDGE)        24\n",
       "2       12347     17021               NAMASTE SWAGAT INCENSE        36\n",
       "3       12347     20665                 RED RETROSPOT PURSE          6\n",
       "4       12347     20719               WOODLAND CHARLOTTE BAG        40"
      ]
     },
     "execution_count": 12,
     "metadata": {},
     "output_type": "execute_result"
    }
   ],
   "source": [
    "user_item_df = df.groupby(['CustomerID', 'StockCode', 'Description'])['Quantity'].sum().reset_index()\n",
    "\n",
    "user_item_df.head()"
   ]
  },
  {
   "cell_type": "code",
   "execution_count": 13,
   "metadata": {},
   "outputs": [],
   "source": [
    "user_item_df['customer_id'] = user_item_df['CustomerID'].apply(lambda x: customer_ids[x])\n",
    "user_item_df['item_id'] = user_item_df['StockCode'].apply(lambda x: item_ids[x])"
   ]
  },
  {
   "cell_type": "code",
   "execution_count": 14,
   "metadata": {},
   "outputs": [],
   "source": [
    "item_customer = csr_matrix((user_item_df['Quantity'].astype(float), (user_item_df['item_id'], user_item_df['customer_id'])))\n",
    "customer_item = csr_matrix((user_item_df['Quantity'].astype(float), (user_item_df['customer_id'], user_item_df['item_id'])))"
   ]
  },
  {
   "cell_type": "markdown",
   "metadata": {},
   "source": [
    "# Collaborative filtering"
   ]
  },
  {
   "cell_type": "markdown",
   "metadata": {},
   "source": [
    "Collaborative filtering is a technique used in recommender systems to make predictions or recommendations based on the preferences or behavior of similar users. It assumes that users who have similar preferences in the past will have similar preferences in the future.\n",
    "\n",
    "The user-item matrix, also known as the utility matrix, is a fundamental concept in collaborative filtering. It represents the interactions between users and items in a matrix format. Each row in the matrix corresponds to a user, and each column corresponds to an item. The entries in the matrix represent the user's interaction or preference for a particular item.\n",
    "\n",
    "For example, let's say we have a user-item matrix for a movie recommendation system. Each row represents a user, and each column represents a movie. The entries in the matrix could be ratings given by users to movies they have watched. If a user has not rated a particular movie, the entry in the matrix will be empty or zero.\n",
    "\n",
    "Here's an example of a user-item matrix:\n",
    "\n"
   ]
  },
  {
   "cell_type": "code",
   "execution_count": 15,
   "metadata": {},
   "outputs": [],
   "source": [
    "#        Movie A   Movie B   Movie C   Movie D\n",
    "#User 1    5         4         0         3\n",
    "#User 2    0         2         4         0\n",
    "#User 3    3         0         0         1"
   ]
  },
  {
   "cell_type": "markdown",
   "metadata": {},
   "source": [
    "\n",
    "\n",
    "In this matrix, User 1 has rated Movie A with a rating of 5, Movie B with a rating of 4, and so on. User 2 has not rated Movie A and Movie D, so the entries for those movies are zero or empty.\n",
    "\n",
    "The user-item matrix is used as the basis for collaborative filtering algorithms. These algorithms analyze the patterns and relationships in the matrix to make recommendations. They can identify similar users based on their preferences and recommend items that have been positively rated by those similar users but have not been seen or rated by the target user.\n",
    "\n",
    "By leveraging the user-item matrix and collaborative filtering techniques, recommender systems can provide personalized recommendations to users based on their similarities with other users."
   ]
  },
  {
   "cell_type": "markdown",
   "metadata": {},
   "source": [
    "Collaborative filtering, utilizes either neighborhood-based or latent factor models.\n",
    "\n",
    "**Neighborhood Models:**\n",
    "Neighborhood models, including clustering or top-N approaches, operate by identifying the closest users or items to generate recommendations. However, when dealing with implicit data, these models may struggle to differentiate between user preferences and the confidence associated with those preferences. Implicit feedback, such as purchase history or browsing patterns, lacks explicit indications of user preferences, introducing complexities in accurately gauging user intent.\n",
    "\n",
    "**Factorization Models:**\n",
    "On the other hand, factorization models aim to uncover latent features that explain observed ratings. This approach assumes a clear degree of user preference, where users explicitly rate or express their liking or disliking for items.\n",
    "\n",
    "While factorization models have shown success with explicit feedback, adapting them to implicit feedback scenarios requires addressing the challenges of interpreting implicit signals. Implicit feedback introduces a layer of uncertainty, making it more challenging to discern the level of user preference accurately."
   ]
  },
  {
   "cell_type": "markdown",
   "metadata": {},
   "source": [
    "The first step in using this model is going to be transforming the quantity from the original dataset into values that can be used as confidences. We want to give to repeated buy of the same product more confidence in the model, but have this effect taper off as the number of repeated transactions increases to reduce the impact a single common product has on the model. Likewise we want to direct some of the confidence weight away from popular items. To do this we’ll use a `bm25`` weighting scheme inspired from classic information retrieval:"
   ]
  },
  {
   "cell_type": "code",
   "execution_count": 16,
   "metadata": {},
   "outputs": [
    {
     "data": {
      "text/plain": [
       "<3663x4339 sparse matrix of type '<class 'numpy.float64'>'\n",
       "\twith 266470 stored elements in COOrdinate format>"
      ]
     },
     "execution_count": 16,
     "metadata": {},
     "output_type": "execute_result"
    }
   ],
   "source": [
    "item_customer_weights = bm25_weight(item_customer, K1=100, B=0.8)\n",
    "item_customer_weights = item_customer_weights.astype('double')\n",
    "item_customer_weights"
   ]
  },
  {
   "cell_type": "markdown",
   "metadata": {},
   "source": [
    "As we can see, now we have a matrix of the same dimensions as the original one, but with values that represent the confidence of the user-item interaction.\n",
    "\n",
    "The two hyperparameters `K1` and `B` control the strength of the confidence. `K1` change the shape to go between the step function used in the Jaccard distance (K1 = 0) and the linear weighting used in the Cosine distance (K1 = +infinity). `B` controls the impact of the document frequency, with higher values giving less weight to common items."
   ]
  },
  {
   "cell_type": "markdown",
   "metadata": {},
   "source": [
    "We can now split the data into train and test sets. We will use the train set to train the model and the test set to evaluate it."
   ]
  },
  {
   "cell_type": "code",
   "execution_count": 17,
   "metadata": {},
   "outputs": [
    {
     "data": {
      "text/plain": [
       "(<4339x3663 sparse matrix of type '<class 'numpy.float64'>'\n",
       " \twith 212982 stored elements in Compressed Sparse Row format>,\n",
       " <4339x3663 sparse matrix of type '<class 'numpy.float64'>'\n",
       " \twith 53488 stored elements in Compressed Sparse Row format>)"
      ]
     },
     "execution_count": 17,
     "metadata": {},
     "output_type": "execute_result"
    }
   ],
   "source": [
    "train, test = train_test_split(\n",
    "    item_customer_weights.T, train_percentage=0.8, random_state=RANDOM_SEED)\n",
    "train = train.astype('double')\n",
    "test = test.astype('double')\n",
    "train, test"
   ]
  },
  {
   "cell_type": "markdown",
   "metadata": {},
   "source": [
    "Let's define a grid to find the best hyperparameters for our model."
   ]
  },
  {
   "cell_type": "code",
   "execution_count": 18,
   "metadata": {},
   "outputs": [],
   "source": [
    "from sklearn.model_selection import ParameterGrid"
   ]
  },
  {
   "cell_type": "code",
   "execution_count": 19,
   "metadata": {},
   "outputs": [],
   "source": [
    "param_grid = {\n",
    "    'factors': [64, 128, 256],\n",
    "    'regularization': np.arange(0.05, 0.15, 0.05),\n",
    "    'iterations': np.arange(50, 60, 10),\n",
    "    'random_state': [RANDOM_SEED],\n",
    "}\n",
    "\n",
    "param_grid = ParameterGrid(param_grid)"
   ]
  },
  {
   "cell_type": "markdown",
   "metadata": {},
   "source": [
    "Iterate over the grid and fit the model."
   ]
  },
  {
   "cell_type": "code",
   "execution_count": 20,
   "metadata": {},
   "outputs": [
    {
     "name": "stderr",
     "output_type": "stream",
     "text": [
      "  2%|▏         | 1/50 [00:00<00:27,  1.75it/s]"
     ]
    },
    {
     "name": "stderr",
     "output_type": "stream",
     "text": [
      "100%|██████████| 50/50 [00:26<00:00,  1.87it/s]\n",
      "100%|██████████| 4078/4078 [00:01<00:00, 3255.94it/s]\n",
      "100%|██████████| 50/50 [00:26<00:00,  1.91it/s]\n",
      "100%|██████████| 4078/4078 [00:01<00:00, 3582.79it/s]\n",
      "100%|██████████| 50/50 [00:43<00:00,  1.14it/s]\n",
      "100%|██████████| 4078/4078 [00:01<00:00, 3241.91it/s]\n",
      "100%|██████████| 50/50 [00:40<00:00,  1.24it/s]\n",
      "100%|██████████| 4078/4078 [00:01<00:00, 3349.33it/s]\n",
      "100%|██████████| 50/50 [00:50<00:00,  1.00s/it]\n",
      "100%|██████████| 4078/4078 [00:01<00:00, 3349.84it/s]\n",
      "100%|██████████| 50/50 [00:52<00:00,  1.05s/it]\n",
      "100%|██████████| 4078/4078 [00:01<00:00, 3215.05it/s]\n"
     ]
    }
   ],
   "source": [
    "results = pd.DataFrame(columns=['factors', 'regularization',\n",
    "                       'iterations', 'alpha', 'K', 'precision', 'map', 'ndcg', 'auc'])\n",
    "\n",
    "\n",
    "for params in param_grid:\n",
    "    model = AlternatingLeastSquares(**params)\n",
    "    model.fit(train)\n",
    "\n",
    "    metrics = ranking_metrics_at_k(model, train, test, K=10)\n",
    "    metrics['K'] = 10\n",
    "    metrics.update(params)\n",
    "    results.loc[len(results)] = metrics"
   ]
  },
  {
   "cell_type": "code",
   "execution_count": 21,
   "metadata": {},
   "outputs": [
    {
     "data": {
      "text/html": [
       "<div>\n",
       "<style scoped>\n",
       "    .dataframe tbody tr th:only-of-type {\n",
       "        vertical-align: middle;\n",
       "    }\n",
       "\n",
       "    .dataframe tbody tr th {\n",
       "        vertical-align: top;\n",
       "    }\n",
       "\n",
       "    .dataframe thead th {\n",
       "        text-align: right;\n",
       "    }\n",
       "</style>\n",
       "<table border=\"1\" class=\"dataframe\">\n",
       "  <thead>\n",
       "    <tr style=\"text-align: right;\">\n",
       "      <th></th>\n",
       "      <th>factors</th>\n",
       "      <th>regularization</th>\n",
       "      <th>iterations</th>\n",
       "      <th>alpha</th>\n",
       "      <th>K</th>\n",
       "      <th>precision</th>\n",
       "      <th>map</th>\n",
       "      <th>ndcg</th>\n",
       "      <th>auc</th>\n",
       "    </tr>\n",
       "  </thead>\n",
       "  <tbody>\n",
       "    <tr>\n",
       "      <th>4</th>\n",
       "      <td>256</td>\n",
       "      <td>0.05</td>\n",
       "      <td>50</td>\n",
       "      <td>NaN</td>\n",
       "      <td>10</td>\n",
       "      <td>0.229666</td>\n",
       "      <td>0.136963</td>\n",
       "      <td>0.233339</td>\n",
       "      <td>0.595821</td>\n",
       "    </tr>\n",
       "    <tr>\n",
       "      <th>5</th>\n",
       "      <td>256</td>\n",
       "      <td>0.10</td>\n",
       "      <td>50</td>\n",
       "      <td>NaN</td>\n",
       "      <td>10</td>\n",
       "      <td>0.228649</td>\n",
       "      <td>0.136492</td>\n",
       "      <td>0.232544</td>\n",
       "      <td>0.595683</td>\n",
       "    </tr>\n",
       "    <tr>\n",
       "      <th>2</th>\n",
       "      <td>128</td>\n",
       "      <td>0.05</td>\n",
       "      <td>50</td>\n",
       "      <td>NaN</td>\n",
       "      <td>10</td>\n",
       "      <td>0.205882</td>\n",
       "      <td>0.115649</td>\n",
       "      <td>0.204661</td>\n",
       "      <td>0.587700</td>\n",
       "    </tr>\n",
       "    <tr>\n",
       "      <th>3</th>\n",
       "      <td>128</td>\n",
       "      <td>0.10</td>\n",
       "      <td>50</td>\n",
       "      <td>NaN</td>\n",
       "      <td>10</td>\n",
       "      <td>0.204648</td>\n",
       "      <td>0.115785</td>\n",
       "      <td>0.204403</td>\n",
       "      <td>0.587322</td>\n",
       "    </tr>\n",
       "    <tr>\n",
       "      <th>0</th>\n",
       "      <td>64</td>\n",
       "      <td>0.05</td>\n",
       "      <td>50</td>\n",
       "      <td>NaN</td>\n",
       "      <td>10</td>\n",
       "      <td>0.165650</td>\n",
       "      <td>0.086563</td>\n",
       "      <td>0.162072</td>\n",
       "      <td>0.572868</td>\n",
       "    </tr>\n",
       "    <tr>\n",
       "      <th>1</th>\n",
       "      <td>64</td>\n",
       "      <td>0.10</td>\n",
       "      <td>50</td>\n",
       "      <td>NaN</td>\n",
       "      <td>10</td>\n",
       "      <td>0.164779</td>\n",
       "      <td>0.086572</td>\n",
       "      <td>0.161981</td>\n",
       "      <td>0.572682</td>\n",
       "    </tr>\n",
       "  </tbody>\n",
       "</table>\n",
       "</div>"
      ],
      "text/plain": [
       "   factors  regularization  iterations  alpha   K  precision       map  \\\n",
       "4      256            0.05          50    NaN  10   0.229666  0.136963   \n",
       "5      256            0.10          50    NaN  10   0.228649  0.136492   \n",
       "2      128            0.05          50    NaN  10   0.205882  0.115649   \n",
       "3      128            0.10          50    NaN  10   0.204648  0.115785   \n",
       "0       64            0.05          50    NaN  10   0.165650  0.086563   \n",
       "1       64            0.10          50    NaN  10   0.164779  0.086572   \n",
       "\n",
       "       ndcg       auc  \n",
       "4  0.233339  0.595821  \n",
       "5  0.232544  0.595683  \n",
       "2  0.204661  0.587700  \n",
       "3  0.204403  0.587322  \n",
       "0  0.162072  0.572868  \n",
       "1  0.161981  0.572682  "
      ]
     },
     "execution_count": 21,
     "metadata": {},
     "output_type": "execute_result"
    }
   ],
   "source": [
    "results.sort_values('auc', ascending=False).head(10)"
   ]
  },
  {
   "cell_type": "markdown",
   "metadata": {},
   "source": [
    "200 factors, regularization of 0.05 and 50 iterations seems to be the best combination."
   ]
  },
  {
   "cell_type": "code",
   "execution_count": 22,
   "metadata": {},
   "outputs": [
    {
     "name": "stderr",
     "output_type": "stream",
     "text": [
      "  0%|          | 0/50 [00:00<?, ?it/s]"
     ]
    },
    {
     "name": "stderr",
     "output_type": "stream",
     "text": [
      "100%|██████████| 50/50 [01:08<00:00,  1.37s/it, loss=0.0148]\n"
     ]
    }
   ],
   "source": [
    "model = AlternatingLeastSquares(factors=256, regularization=0.1, iterations=50, random_state=RANDOM_SEED, calculate_training_loss=True)\n",
    "\n",
    "model.fit(train)"
   ]
  },
  {
   "cell_type": "markdown",
   "metadata": {},
   "source": [
    "Ranking metrics to evaluate the model."
   ]
  },
  {
   "cell_type": "code",
   "execution_count": 23,
   "metadata": {},
   "outputs": [
    {
     "name": "stderr",
     "output_type": "stream",
     "text": [
      "100%|██████████| 4078/4078 [00:01<00:00, 3320.44it/s]\n"
     ]
    },
    {
     "data": {
      "text/plain": [
       "{'precision': 0.2286492374727669,\n",
       " 'map': 0.13649232797900027,\n",
       " 'ndcg': 0.2325443143934244,\n",
       " 'auc': 0.5956827641645792}"
      ]
     },
     "execution_count": 23,
     "metadata": {},
     "output_type": "execute_result"
    }
   ],
   "source": [
    "ranking_metrics_at_k(model, train, test, K=10)"
   ]
  },
  {
   "cell_type": "markdown",
   "metadata": {},
   "source": [
    "We can also save the model for later use."
   ]
  },
  {
   "cell_type": "code",
   "execution_count": 60,
   "metadata": {},
   "outputs": [],
   "source": [
    "if not os.path.exists('als_model'):\n",
    "    model.save('als_model')\n",
    "else:\n",
    "    model.load('als_model')"
   ]
  },
  {
   "cell_type": "markdown",
   "metadata": {},
   "source": [
    "Finding similar items to a given item"
   ]
  },
  {
   "cell_type": "code",
   "execution_count": 25,
   "metadata": {},
   "outputs": [
    {
     "data": {
      "text/html": [
       "<div>\n",
       "<style scoped>\n",
       "    .dataframe tbody tr th:only-of-type {\n",
       "        vertical-align: middle;\n",
       "    }\n",
       "\n",
       "    .dataframe tbody tr th {\n",
       "        vertical-align: top;\n",
       "    }\n",
       "\n",
       "    .dataframe thead th {\n",
       "        text-align: right;\n",
       "    }\n",
       "</style>\n",
       "<table border=\"1\" class=\"dataframe\">\n",
       "  <thead>\n",
       "    <tr style=\"text-align: right;\">\n",
       "      <th></th>\n",
       "      <th>CustomerID</th>\n",
       "      <th>StockCode</th>\n",
       "      <th>Description</th>\n",
       "      <th>Quantity</th>\n",
       "      <th>customer_id</th>\n",
       "      <th>item_id</th>\n",
       "    </tr>\n",
       "  </thead>\n",
       "  <tbody>\n",
       "    <tr>\n",
       "      <th>0</th>\n",
       "      <td>12346</td>\n",
       "      <td>23166</td>\n",
       "      <td>MEDIUM CERAMIC TOP STORAGE JAR</td>\n",
       "      <td>74215</td>\n",
       "      <td>1104</td>\n",
       "      <td>2548</td>\n",
       "    </tr>\n",
       "    <tr>\n",
       "      <th>1</th>\n",
       "      <td>12347</td>\n",
       "      <td>16008</td>\n",
       "      <td>SMALL FOLDING SCISSOR(POINTED EDGE)</td>\n",
       "      <td>24</td>\n",
       "      <td>409</td>\n",
       "      <td>1968</td>\n",
       "    </tr>\n",
       "    <tr>\n",
       "      <th>2</th>\n",
       "      <td>12347</td>\n",
       "      <td>17021</td>\n",
       "      <td>NAMASTE SWAGAT INCENSE</td>\n",
       "      <td>36</td>\n",
       "      <td>409</td>\n",
       "      <td>449</td>\n",
       "    </tr>\n",
       "    <tr>\n",
       "      <th>3</th>\n",
       "      <td>12347</td>\n",
       "      <td>20665</td>\n",
       "      <td>RED RETROSPOT PURSE</td>\n",
       "      <td>6</td>\n",
       "      <td>409</td>\n",
       "      <td>1227</td>\n",
       "    </tr>\n",
       "    <tr>\n",
       "      <th>4</th>\n",
       "      <td>12347</td>\n",
       "      <td>20719</td>\n",
       "      <td>WOODLAND CHARLOTTE BAG</td>\n",
       "      <td>40</td>\n",
       "      <td>409</td>\n",
       "      <td>1220</td>\n",
       "    </tr>\n",
       "  </tbody>\n",
       "</table>\n",
       "</div>"
      ],
      "text/plain": [
       "   CustomerID StockCode                          Description  Quantity  \\\n",
       "0       12346     23166       MEDIUM CERAMIC TOP STORAGE JAR     74215   \n",
       "1       12347     16008  SMALL FOLDING SCISSOR(POINTED EDGE)        24   \n",
       "2       12347     17021               NAMASTE SWAGAT INCENSE        36   \n",
       "3       12347     20665                 RED RETROSPOT PURSE          6   \n",
       "4       12347     20719               WOODLAND CHARLOTTE BAG        40   \n",
       "\n",
       "   customer_id  item_id  \n",
       "0         1104     2548  \n",
       "1          409     1968  \n",
       "2          409      449  \n",
       "3          409     1227  \n",
       "4          409     1220  "
      ]
     },
     "execution_count": 25,
     "metadata": {},
     "output_type": "execute_result"
    }
   ],
   "source": [
    "user_item_df.head()"
   ]
  },
  {
   "cell_type": "code",
   "execution_count": 26,
   "metadata": {},
   "outputs": [
    {
     "data": {
      "text/html": [
       "<div>\n",
       "<style scoped>\n",
       "    .dataframe tbody tr th:only-of-type {\n",
       "        vertical-align: middle;\n",
       "    }\n",
       "\n",
       "    .dataframe tbody tr th {\n",
       "        vertical-align: top;\n",
       "    }\n",
       "\n",
       "    .dataframe thead th {\n",
       "        text-align: right;\n",
       "    }\n",
       "</style>\n",
       "<table border=\"1\" class=\"dataframe\">\n",
       "  <thead>\n",
       "    <tr style=\"text-align: right;\">\n",
       "      <th></th>\n",
       "      <th>CustomerID</th>\n",
       "      <th>StockCode</th>\n",
       "      <th>Description</th>\n",
       "      <th>Quantity</th>\n",
       "      <th>customer_id</th>\n",
       "      <th>item_id</th>\n",
       "    </tr>\n",
       "  </thead>\n",
       "  <tbody>\n",
       "    <tr>\n",
       "      <th>1328</th>\n",
       "      <td>12370</td>\n",
       "      <td>85123A</td>\n",
       "      <td>WHITE HANGING HEART T-LIGHT HOLDER</td>\n",
       "      <td>94</td>\n",
       "      <td>696</td>\n",
       "      <td>0</td>\n",
       "    </tr>\n",
       "    <tr>\n",
       "      <th>2258</th>\n",
       "      <td>12391</td>\n",
       "      <td>85123A</td>\n",
       "      <td>WHITE HANGING HEART T-LIGHT HOLDER</td>\n",
       "      <td>10</td>\n",
       "      <td>4179</td>\n",
       "      <td>0</td>\n",
       "    </tr>\n",
       "    <tr>\n",
       "      <th>3052</th>\n",
       "      <td>12409</td>\n",
       "      <td>85123A</td>\n",
       "      <td>WHITE HANGING HEART T-LIGHT HOLDER</td>\n",
       "      <td>32</td>\n",
       "      <td>2807</td>\n",
       "      <td>0</td>\n",
       "    </tr>\n",
       "    <tr>\n",
       "      <th>4376</th>\n",
       "      <td>12428</td>\n",
       "      <td>85123A</td>\n",
       "      <td>WHITE HANGING HEART T-LIGHT HOLDER</td>\n",
       "      <td>6</td>\n",
       "      <td>1685</td>\n",
       "      <td>0</td>\n",
       "    </tr>\n",
       "    <tr>\n",
       "      <th>6070</th>\n",
       "      <td>12455</td>\n",
       "      <td>85123A</td>\n",
       "      <td>WHITE HANGING HEART T-LIGHT HOLDER</td>\n",
       "      <td>32</td>\n",
       "      <td>1495</td>\n",
       "      <td>0</td>\n",
       "    </tr>\n",
       "  </tbody>\n",
       "</table>\n",
       "</div>"
      ],
      "text/plain": [
       "      CustomerID StockCode                         Description  Quantity  \\\n",
       "1328       12370    85123A  WHITE HANGING HEART T-LIGHT HOLDER        94   \n",
       "2258       12391    85123A  WHITE HANGING HEART T-LIGHT HOLDER        10   \n",
       "3052       12409    85123A  WHITE HANGING HEART T-LIGHT HOLDER        32   \n",
       "4376       12428    85123A  WHITE HANGING HEART T-LIGHT HOLDER         6   \n",
       "6070       12455    85123A  WHITE HANGING HEART T-LIGHT HOLDER        32   \n",
       "\n",
       "      customer_id  item_id  \n",
       "1328          696        0  \n",
       "2258         4179        0  \n",
       "3052         2807        0  \n",
       "4376         1685        0  \n",
       "6070         1495        0  "
      ]
     },
     "execution_count": 26,
     "metadata": {},
     "output_type": "execute_result"
    }
   ],
   "source": [
    "user_item_df.loc[user_item_df['item_id'] == 0].head()"
   ]
  },
  {
   "cell_type": "markdown",
   "metadata": {},
   "source": [
    "Find the 10 most similar items to \"WHITE HANGING HEART T-LIGHT HOLDER\"."
   ]
  },
  {
   "cell_type": "code",
   "execution_count": 27,
   "metadata": {},
   "outputs": [
    {
     "data": {
      "text/html": [
       "<div>\n",
       "<style scoped>\n",
       "    .dataframe tbody tr th:only-of-type {\n",
       "        vertical-align: middle;\n",
       "    }\n",
       "\n",
       "    .dataframe tbody tr th {\n",
       "        vertical-align: top;\n",
       "    }\n",
       "\n",
       "    .dataframe thead th {\n",
       "        text-align: right;\n",
       "    }\n",
       "</style>\n",
       "<table border=\"1\" class=\"dataframe\">\n",
       "  <thead>\n",
       "    <tr style=\"text-align: right;\">\n",
       "      <th></th>\n",
       "      <th>item_id</th>\n",
       "      <th>score</th>\n",
       "    </tr>\n",
       "  </thead>\n",
       "  <tbody>\n",
       "    <tr>\n",
       "      <th>0</th>\n",
       "      <td>RED HANGING HEART T-LIGHT HOLDER</td>\n",
       "      <td>0.599304</td>\n",
       "    </tr>\n",
       "    <tr>\n",
       "      <th>1</th>\n",
       "      <td>CANDLEHOLDER PINK HANGING HEART</td>\n",
       "      <td>0.572219</td>\n",
       "    </tr>\n",
       "    <tr>\n",
       "      <th>2</th>\n",
       "      <td>CREAM HEART CARD HOLDER</td>\n",
       "      <td>0.345529</td>\n",
       "    </tr>\n",
       "    <tr>\n",
       "      <th>3</th>\n",
       "      <td>TEA TIME TEA TOWELS</td>\n",
       "      <td>0.276319</td>\n",
       "    </tr>\n",
       "    <tr>\n",
       "      <th>4</th>\n",
       "      <td>GLASS STAR FROSTED T-LIGHT HOLDER</td>\n",
       "      <td>0.222609</td>\n",
       "    </tr>\n",
       "    <tr>\n",
       "      <th>5</th>\n",
       "      <td>DOTCOMGIFTSHOP TEA TOWEL</td>\n",
       "      <td>0.217539</td>\n",
       "    </tr>\n",
       "    <tr>\n",
       "      <th>6</th>\n",
       "      <td>PINK SPOTS CHOCOLATE NESTING BOXES</td>\n",
       "      <td>0.200790</td>\n",
       "    </tr>\n",
       "    <tr>\n",
       "      <th>7</th>\n",
       "      <td>FAIRY SOAP SOAP HOLDER</td>\n",
       "      <td>0.199700</td>\n",
       "    </tr>\n",
       "    <tr>\n",
       "      <th>8</th>\n",
       "      <td>DIAMANTE NECKLACE GREEN</td>\n",
       "      <td>0.198563</td>\n",
       "    </tr>\n",
       "    <tr>\n",
       "      <th>9</th>\n",
       "      <td>DIAMANTE NECKLACE</td>\n",
       "      <td>0.198561</td>\n",
       "    </tr>\n",
       "  </tbody>\n",
       "</table>\n",
       "</div>"
      ],
      "text/plain": [
       "                               item_id     score\n",
       "0     RED HANGING HEART T-LIGHT HOLDER  0.599304\n",
       "1      CANDLEHOLDER PINK HANGING HEART  0.572219\n",
       "2              CREAM HEART CARD HOLDER  0.345529\n",
       "3                 TEA TIME TEA TOWELS   0.276319\n",
       "4    GLASS STAR FROSTED T-LIGHT HOLDER  0.222609\n",
       "5             DOTCOMGIFTSHOP TEA TOWEL  0.217539\n",
       "6  PINK SPOTS CHOCOLATE NESTING BOXES   0.200790\n",
       "7               FAIRY SOAP SOAP HOLDER  0.199700\n",
       "8              DIAMANTE NECKLACE GREEN  0.198563\n",
       "9                    DIAMANTE NECKLACE  0.198561"
      ]
     },
     "execution_count": 27,
     "metadata": {},
     "output_type": "execute_result"
    }
   ],
   "source": [
    "selected_item_id = 0\n",
    "ids, scores = model.similar_items(\n",
    "    selected_item_id, N=10, filter_items=[selected_item_id])\n",
    "pd.DataFrame({'item_id': [user_item_df.loc[user_item_df['item_id'] == id]['Description'].unique()[0] for id in ids], 'score': scores})"
   ]
  },
  {
   "cell_type": "code",
   "execution_count": 28,
   "metadata": {},
   "outputs": [
    {
     "data": {
      "text/html": [
       "<div>\n",
       "<style scoped>\n",
       "    .dataframe tbody tr th:only-of-type {\n",
       "        vertical-align: middle;\n",
       "    }\n",
       "\n",
       "    .dataframe tbody tr th {\n",
       "        vertical-align: top;\n",
       "    }\n",
       "\n",
       "    .dataframe thead th {\n",
       "        text-align: right;\n",
       "    }\n",
       "</style>\n",
       "<table border=\"1\" class=\"dataframe\">\n",
       "  <thead>\n",
       "    <tr style=\"text-align: right;\">\n",
       "      <th></th>\n",
       "      <th>CustomerID</th>\n",
       "      <th>StockCode</th>\n",
       "      <th>Description</th>\n",
       "      <th>Quantity</th>\n",
       "      <th>customer_id</th>\n",
       "      <th>item_id</th>\n",
       "    </tr>\n",
       "  </thead>\n",
       "  <tbody>\n",
       "    <tr>\n",
       "      <th>251895</th>\n",
       "      <td>17850</td>\n",
       "      <td>15056BL</td>\n",
       "      <td>EDWARDIAN PARASOL BLACK</td>\n",
       "      <td>24</td>\n",
       "      <td>0</td>\n",
       "      <td>102</td>\n",
       "    </tr>\n",
       "    <tr>\n",
       "      <th>251896</th>\n",
       "      <td>17850</td>\n",
       "      <td>20679</td>\n",
       "      <td>EDWARDIAN PARASOL RED</td>\n",
       "      <td>42</td>\n",
       "      <td>0</td>\n",
       "      <td>46</td>\n",
       "    </tr>\n",
       "    <tr>\n",
       "      <th>251897</th>\n",
       "      <td>17850</td>\n",
       "      <td>21068</td>\n",
       "      <td>VINTAGE BILLBOARD LOVE/HATE MUG</td>\n",
       "      <td>96</td>\n",
       "      <td>0</td>\n",
       "      <td>50</td>\n",
       "    </tr>\n",
       "    <tr>\n",
       "      <th>251898</th>\n",
       "      <td>17850</td>\n",
       "      <td>21071</td>\n",
       "      <td>VINTAGE BILLBOARD DRINK ME MUG</td>\n",
       "      <td>96</td>\n",
       "      <td>0</td>\n",
       "      <td>49</td>\n",
       "    </tr>\n",
       "    <tr>\n",
       "      <th>251899</th>\n",
       "      <td>17850</td>\n",
       "      <td>21730</td>\n",
       "      <td>GLASS STAR FROSTED T-LIGHT HOLDER</td>\n",
       "      <td>104</td>\n",
       "      <td>0</td>\n",
       "      <td>6</td>\n",
       "    </tr>\n",
       "  </tbody>\n",
       "</table>\n",
       "</div>"
      ],
      "text/plain": [
       "        CustomerID StockCode                        Description  Quantity  \\\n",
       "251895       17850   15056BL            EDWARDIAN PARASOL BLACK        24   \n",
       "251896       17850     20679              EDWARDIAN PARASOL RED        42   \n",
       "251897       17850     21068    VINTAGE BILLBOARD LOVE/HATE MUG        96   \n",
       "251898       17850     21071     VINTAGE BILLBOARD DRINK ME MUG        96   \n",
       "251899       17850     21730  GLASS STAR FROSTED T-LIGHT HOLDER       104   \n",
       "\n",
       "        customer_id  item_id  \n",
       "251895            0      102  \n",
       "251896            0       46  \n",
       "251897            0       50  \n",
       "251898            0       49  \n",
       "251899            0        6  "
      ]
     },
     "execution_count": 28,
     "metadata": {},
     "output_type": "execute_result"
    }
   ],
   "source": [
    "user_item_df.loc[user_item_df['customer_id'] == 0].head()"
   ]
  },
  {
   "cell_type": "markdown",
   "metadata": {},
   "source": [
    "Find the 10 most similar users to user 17850."
   ]
  },
  {
   "cell_type": "code",
   "execution_count": 29,
   "metadata": {},
   "outputs": [
    {
     "data": {
      "text/html": [
       "<div>\n",
       "<style scoped>\n",
       "    .dataframe tbody tr th:only-of-type {\n",
       "        vertical-align: middle;\n",
       "    }\n",
       "\n",
       "    .dataframe tbody tr th {\n",
       "        vertical-align: top;\n",
       "    }\n",
       "\n",
       "    .dataframe thead th {\n",
       "        text-align: right;\n",
       "    }\n",
       "</style>\n",
       "<table border=\"1\" class=\"dataframe\">\n",
       "  <thead>\n",
       "    <tr style=\"text-align: right;\">\n",
       "      <th></th>\n",
       "      <th>user_id</th>\n",
       "      <th>score</th>\n",
       "    </tr>\n",
       "  </thead>\n",
       "  <tbody>\n",
       "    <tr>\n",
       "      <th>0</th>\n",
       "      <td>12789</td>\n",
       "      <td>0.500353</td>\n",
       "    </tr>\n",
       "    <tr>\n",
       "      <th>1</th>\n",
       "      <td>17443</td>\n",
       "      <td>0.428349</td>\n",
       "    </tr>\n",
       "    <tr>\n",
       "      <th>2</th>\n",
       "      <td>12917</td>\n",
       "      <td>0.415954</td>\n",
       "    </tr>\n",
       "    <tr>\n",
       "      <th>3</th>\n",
       "      <td>14051</td>\n",
       "      <td>0.359900</td>\n",
       "    </tr>\n",
       "    <tr>\n",
       "      <th>4</th>\n",
       "      <td>16565</td>\n",
       "      <td>0.333561</td>\n",
       "    </tr>\n",
       "    <tr>\n",
       "      <th>5</th>\n",
       "      <td>13187</td>\n",
       "      <td>0.325841</td>\n",
       "    </tr>\n",
       "    <tr>\n",
       "      <th>6</th>\n",
       "      <td>16690</td>\n",
       "      <td>0.318948</td>\n",
       "    </tr>\n",
       "    <tr>\n",
       "      <th>7</th>\n",
       "      <td>13298</td>\n",
       "      <td>0.313484</td>\n",
       "    </tr>\n",
       "    <tr>\n",
       "      <th>8</th>\n",
       "      <td>12601</td>\n",
       "      <td>0.307875</td>\n",
       "    </tr>\n",
       "    <tr>\n",
       "      <th>9</th>\n",
       "      <td>13551</td>\n",
       "      <td>0.303187</td>\n",
       "    </tr>\n",
       "  </tbody>\n",
       "</table>\n",
       "</div>"
      ],
      "text/plain": [
       "   user_id     score\n",
       "0    12789  0.500353\n",
       "1    17443  0.428349\n",
       "2    12917  0.415954\n",
       "3    14051  0.359900\n",
       "4    16565  0.333561\n",
       "5    13187  0.325841\n",
       "6    16690  0.318948\n",
       "7    13298  0.313484\n",
       "8    12601  0.307875\n",
       "9    13551  0.303187"
      ]
     },
     "execution_count": 29,
     "metadata": {},
     "output_type": "execute_result"
    }
   ],
   "source": [
    "selected_user_id = 0\n",
    "ids, scores = model.similar_users(\n",
    "    selected_user_id, N=10, filter_users=[selected_user_id])\n",
    "pd.DataFrame({'user_id': [list(customer_ids)[id]\n",
    "             for id in ids], 'score': scores})"
   ]
  },
  {
   "cell_type": "markdown",
   "metadata": {},
   "source": [
    "Explanation of why an item is liked by a specific user"
   ]
  },
  {
   "cell_type": "code",
   "execution_count": 30,
   "metadata": {},
   "outputs": [
    {
     "data": {
      "text/html": [
       "<div>\n",
       "<style scoped>\n",
       "    .dataframe tbody tr th:only-of-type {\n",
       "        vertical-align: middle;\n",
       "    }\n",
       "\n",
       "    .dataframe tbody tr th {\n",
       "        vertical-align: top;\n",
       "    }\n",
       "\n",
       "    .dataframe thead th {\n",
       "        text-align: right;\n",
       "    }\n",
       "</style>\n",
       "<table border=\"1\" class=\"dataframe\">\n",
       "  <thead>\n",
       "    <tr style=\"text-align: right;\">\n",
       "      <th></th>\n",
       "      <th>CustomerID</th>\n",
       "      <th>StockCode</th>\n",
       "      <th>Description</th>\n",
       "      <th>Quantity</th>\n",
       "      <th>customer_id</th>\n",
       "      <th>item_id</th>\n",
       "    </tr>\n",
       "  </thead>\n",
       "  <tbody>\n",
       "    <tr>\n",
       "      <th>251915</th>\n",
       "      <td>17850</td>\n",
       "      <td>85123A</td>\n",
       "      <td>WHITE HANGING HEART T-LIGHT HOLDER</td>\n",
       "      <td>122</td>\n",
       "      <td>0</td>\n",
       "      <td>0</td>\n",
       "    </tr>\n",
       "    <tr>\n",
       "      <th>251907</th>\n",
       "      <td>17850</td>\n",
       "      <td>71053</td>\n",
       "      <td>WHITE METAL LANTERN</td>\n",
       "      <td>122</td>\n",
       "      <td>0</td>\n",
       "      <td>1</td>\n",
       "    </tr>\n",
       "    <tr>\n",
       "      <th>251913</th>\n",
       "      <td>17850</td>\n",
       "      <td>84029G</td>\n",
       "      <td>KNITTED UNION FLAG HOT WATER BOTTLE</td>\n",
       "      <td>110</td>\n",
       "      <td>0</td>\n",
       "      <td>3</td>\n",
       "    </tr>\n",
       "    <tr>\n",
       "      <th>251902</th>\n",
       "      <td>17850</td>\n",
       "      <td>22632</td>\n",
       "      <td>HAND WARMER RED POLKA DOT</td>\n",
       "      <td>108</td>\n",
       "      <td>0</td>\n",
       "      <td>8</td>\n",
       "    </tr>\n",
       "    <tr>\n",
       "      <th>251903</th>\n",
       "      <td>17850</td>\n",
       "      <td>22633</td>\n",
       "      <td>HAND WARMER UNION JACK</td>\n",
       "      <td>108</td>\n",
       "      <td>0</td>\n",
       "      <td>7</td>\n",
       "    </tr>\n",
       "    <tr>\n",
       "      <th>251914</th>\n",
       "      <td>17850</td>\n",
       "      <td>84406B</td>\n",
       "      <td>CREAM CUPID HEARTS COAT HANGER</td>\n",
       "      <td>108</td>\n",
       "      <td>0</td>\n",
       "      <td>2</td>\n",
       "    </tr>\n",
       "    <tr>\n",
       "      <th>251899</th>\n",
       "      <td>17850</td>\n",
       "      <td>21730</td>\n",
       "      <td>GLASS STAR FROSTED T-LIGHT HOLDER</td>\n",
       "      <td>104</td>\n",
       "      <td>0</td>\n",
       "      <td>6</td>\n",
       "    </tr>\n",
       "    <tr>\n",
       "      <th>251912</th>\n",
       "      <td>17850</td>\n",
       "      <td>84029E</td>\n",
       "      <td>RED WOOLLY HOTTIE WHITE HEART.</td>\n",
       "      <td>104</td>\n",
       "      <td>0</td>\n",
       "      <td>4</td>\n",
       "    </tr>\n",
       "    <tr>\n",
       "      <th>251898</th>\n",
       "      <td>17850</td>\n",
       "      <td>21071</td>\n",
       "      <td>VINTAGE BILLBOARD DRINK ME MUG</td>\n",
       "      <td>96</td>\n",
       "      <td>0</td>\n",
       "      <td>49</td>\n",
       "    </tr>\n",
       "    <tr>\n",
       "      <th>251906</th>\n",
       "      <td>17850</td>\n",
       "      <td>37370</td>\n",
       "      <td>RETRO COFFEE MUGS ASSORTED</td>\n",
       "      <td>96</td>\n",
       "      <td>0</td>\n",
       "      <td>47</td>\n",
       "    </tr>\n",
       "  </tbody>\n",
       "</table>\n",
       "</div>"
      ],
      "text/plain": [
       "        CustomerID StockCode                          Description  Quantity  \\\n",
       "251915       17850    85123A   WHITE HANGING HEART T-LIGHT HOLDER       122   \n",
       "251907       17850     71053                  WHITE METAL LANTERN       122   \n",
       "251913       17850    84029G  KNITTED UNION FLAG HOT WATER BOTTLE       110   \n",
       "251902       17850     22632            HAND WARMER RED POLKA DOT       108   \n",
       "251903       17850     22633               HAND WARMER UNION JACK       108   \n",
       "251914       17850    84406B       CREAM CUPID HEARTS COAT HANGER       108   \n",
       "251899       17850     21730    GLASS STAR FROSTED T-LIGHT HOLDER       104   \n",
       "251912       17850    84029E       RED WOOLLY HOTTIE WHITE HEART.       104   \n",
       "251898       17850     21071       VINTAGE BILLBOARD DRINK ME MUG        96   \n",
       "251906       17850     37370           RETRO COFFEE MUGS ASSORTED        96   \n",
       "\n",
       "        customer_id  item_id  \n",
       "251915            0        0  \n",
       "251907            0        1  \n",
       "251913            0        3  \n",
       "251902            0        8  \n",
       "251903            0        7  \n",
       "251914            0        2  \n",
       "251899            0        6  \n",
       "251912            0        4  \n",
       "251898            0       49  \n",
       "251906            0       47  "
      ]
     },
     "execution_count": 30,
     "metadata": {},
     "output_type": "execute_result"
    }
   ],
   "source": [
    "user_item_df.loc[user_item_df['customer_id'] == 0].sort_values('Quantity', ascending=False).head(10)"
   ]
  },
  {
   "cell_type": "code",
   "execution_count": 32,
   "metadata": {},
   "outputs": [],
   "source": [
    "#model = model.to_cpu()\n",
    "\n",
    "total_score, top_contributions, user_weights = model.explain(userid=0, itemid=0, user_items=test)"
   ]
  },
  {
   "cell_type": "markdown",
   "metadata": {},
   "source": [
    "Total predicted score for the pair (user_id, item_id) with CustomerID = 17850 (customer_id = 0) and StockCode = 85123A (item_id = 0)."
   ]
  },
  {
   "cell_type": "code",
   "execution_count": 33,
   "metadata": {},
   "outputs": [
    {
     "data": {
      "text/plain": [
       "0.9775827259068807"
      ]
     },
     "execution_count": 33,
     "metadata": {},
     "output_type": "execute_result"
    }
   ],
   "source": [
    "total_score"
   ]
  },
  {
   "cell_type": "markdown",
   "metadata": {},
   "source": [
    "A list of the top N (itemid, score) contributions for this user/item pair"
   ]
  },
  {
   "cell_type": "code",
   "execution_count": 34,
   "metadata": {},
   "outputs": [
    {
     "data": {
      "text/html": [
       "<div>\n",
       "<style scoped>\n",
       "    .dataframe tbody tr th:only-of-type {\n",
       "        vertical-align: middle;\n",
       "    }\n",
       "\n",
       "    .dataframe tbody tr th {\n",
       "        vertical-align: top;\n",
       "    }\n",
       "\n",
       "    .dataframe thead th {\n",
       "        text-align: right;\n",
       "    }\n",
       "</style>\n",
       "<table border=\"1\" class=\"dataframe\">\n",
       "  <thead>\n",
       "    <tr style=\"text-align: right;\">\n",
       "      <th></th>\n",
       "      <th>item_id</th>\n",
       "      <th>score</th>\n",
       "    </tr>\n",
       "  </thead>\n",
       "  <tbody>\n",
       "    <tr>\n",
       "      <th>0</th>\n",
       "      <td>WHITE HANGING HEART T-LIGHT HOLDER</td>\n",
       "      <td>0.893608</td>\n",
       "    </tr>\n",
       "    <tr>\n",
       "      <th>1</th>\n",
       "      <td>GLASS STAR FROSTED T-LIGHT HOLDER</td>\n",
       "      <td>0.044842</td>\n",
       "    </tr>\n",
       "    <tr>\n",
       "      <th>2</th>\n",
       "      <td>RED WOOLLY HOTTIE WHITE HEART.</td>\n",
       "      <td>0.014364</td>\n",
       "    </tr>\n",
       "    <tr>\n",
       "      <th>3</th>\n",
       "      <td>CREAM CUPID HEARTS COAT HANGER</td>\n",
       "      <td>0.009718</td>\n",
       "    </tr>\n",
       "    <tr>\n",
       "      <th>4</th>\n",
       "      <td>3 DRAWER ANTIQUE WHITE WOOD CABINET</td>\n",
       "      <td>0.005586</td>\n",
       "    </tr>\n",
       "    <tr>\n",
       "      <th>5</th>\n",
       "      <td>EDWARDIAN PARASOL RED</td>\n",
       "      <td>0.005458</td>\n",
       "    </tr>\n",
       "    <tr>\n",
       "      <th>6</th>\n",
       "      <td>HAND WARMER UNION JACK</td>\n",
       "      <td>0.004006</td>\n",
       "    </tr>\n",
       "  </tbody>\n",
       "</table>\n",
       "</div>"
      ],
      "text/plain": [
       "                               item_id     score\n",
       "0   WHITE HANGING HEART T-LIGHT HOLDER  0.893608\n",
       "1    GLASS STAR FROSTED T-LIGHT HOLDER  0.044842\n",
       "2       RED WOOLLY HOTTIE WHITE HEART.  0.014364\n",
       "3       CREAM CUPID HEARTS COAT HANGER  0.009718\n",
       "4  3 DRAWER ANTIQUE WHITE WOOD CABINET  0.005586\n",
       "5                EDWARDIAN PARASOL RED  0.005458\n",
       "6               HAND WARMER UNION JACK  0.004006"
      ]
     },
     "execution_count": 34,
     "metadata": {},
     "output_type": "execute_result"
    }
   ],
   "source": [
    "# Convert the list of (itemid, score) tuples into a dataframe with also the description\n",
    "ids, scores = zip(*top_contributions)\n",
    "pd.DataFrame({'item_id': [user_item_df.loc[user_item_df['item_id'] == id]\n",
    "             ['Description'].unique()[0] for id in ids], 'score': scores})"
   ]
  },
  {
   "cell_type": "markdown",
   "metadata": {},
   "source": [
    "So basically the recommendation system is telling us that the reason why there was a suggestion for the item `RED HANGING HEART T-LIGHT HOLDER` was because the user `17850` bought the item `WHITE HANGING HEART T-LIGHT HOLDER` and the item `WHITE HANGING HEART T-LIGHT HOLDER` is similar to the item `RED HANGING HEART T-LIGHT HOLDER`. This is highlighted by the fact that the score of contribution of the item `WHITE HANGING HEART T-LIGHT HOLDER` is the highest."
   ]
  },
  {
   "cell_type": "markdown",
   "metadata": {},
   "source": [
    "Then we can also recommend general items for a given user."
   ]
  },
  {
   "cell_type": "code",
   "execution_count": 36,
   "metadata": {},
   "outputs": [
    {
     "data": {
      "text/html": [
       "<div>\n",
       "<style scoped>\n",
       "    .dataframe tbody tr th:only-of-type {\n",
       "        vertical-align: middle;\n",
       "    }\n",
       "\n",
       "    .dataframe tbody tr th {\n",
       "        vertical-align: top;\n",
       "    }\n",
       "\n",
       "    .dataframe thead th {\n",
       "        text-align: right;\n",
       "    }\n",
       "</style>\n",
       "<table border=\"1\" class=\"dataframe\">\n",
       "  <thead>\n",
       "    <tr style=\"text-align: right;\">\n",
       "      <th></th>\n",
       "      <th>item_id</th>\n",
       "      <th>score</th>\n",
       "    </tr>\n",
       "  </thead>\n",
       "  <tbody>\n",
       "    <tr>\n",
       "      <th>0</th>\n",
       "      <td>WOODEN FRAME ANTIQUE WHITE</td>\n",
       "      <td>1.003639</td>\n",
       "    </tr>\n",
       "    <tr>\n",
       "      <th>1</th>\n",
       "      <td>WHITE METAL LANTERN</td>\n",
       "      <td>0.999102</td>\n",
       "    </tr>\n",
       "    <tr>\n",
       "      <th>2</th>\n",
       "      <td>VINTAGE BILLBOARD DRINK ME MUG</td>\n",
       "      <td>0.996417</td>\n",
       "    </tr>\n",
       "    <tr>\n",
       "      <th>3</th>\n",
       "      <td>VINTAGE BILLBOARD LOVE/HATE MUG</td>\n",
       "      <td>0.993105</td>\n",
       "    </tr>\n",
       "    <tr>\n",
       "      <th>4</th>\n",
       "      <td>KNITTED UNION FLAG HOT WATER BOTTLE</td>\n",
       "      <td>0.992531</td>\n",
       "    </tr>\n",
       "    <tr>\n",
       "      <th>5</th>\n",
       "      <td>WOOD 2 DRAWER CABINET WHITE FINISH</td>\n",
       "      <td>0.992488</td>\n",
       "    </tr>\n",
       "    <tr>\n",
       "      <th>6</th>\n",
       "      <td>HAND WARMER RED RETROSPOT</td>\n",
       "      <td>0.989699</td>\n",
       "    </tr>\n",
       "    <tr>\n",
       "      <th>7</th>\n",
       "      <td>WOODEN PICTURE FRAME WHITE FINISH</td>\n",
       "      <td>0.987895</td>\n",
       "    </tr>\n",
       "    <tr>\n",
       "      <th>8</th>\n",
       "      <td>RETRO COFFEE MUGS ASSORTED</td>\n",
       "      <td>0.987404</td>\n",
       "    </tr>\n",
       "    <tr>\n",
       "      <th>9</th>\n",
       "      <td>SET 7 BABUSHKA NESTING BOXES</td>\n",
       "      <td>0.986911</td>\n",
       "    </tr>\n",
       "  </tbody>\n",
       "</table>\n",
       "</div>"
      ],
      "text/plain": [
       "                               item_id     score\n",
       "0          WOODEN FRAME ANTIQUE WHITE   1.003639\n",
       "1                  WHITE METAL LANTERN  0.999102\n",
       "2       VINTAGE BILLBOARD DRINK ME MUG  0.996417\n",
       "3      VINTAGE BILLBOARD LOVE/HATE MUG  0.993105\n",
       "4  KNITTED UNION FLAG HOT WATER BOTTLE  0.992531\n",
       "5   WOOD 2 DRAWER CABINET WHITE FINISH  0.992488\n",
       "6            HAND WARMER RED RETROSPOT  0.989699\n",
       "7    WOODEN PICTURE FRAME WHITE FINISH  0.987895\n",
       "8           RETRO COFFEE MUGS ASSORTED  0.987404\n",
       "9         SET 7 BABUSHKA NESTING BOXES  0.986911"
      ]
     },
     "execution_count": 36,
     "metadata": {},
     "output_type": "execute_result"
    }
   ],
   "source": [
    "ids, scores = model.recommend(0, user_items=test[0], N=10, filter_already_liked_items=True)\n",
    "pd.DataFrame({'item_id': [user_item_df.loc[user_item_df['item_id'] == id]['Description'].unique()[0] for id in ids], 'score': scores})"
   ]
  },
  {
   "cell_type": "markdown",
   "metadata": {},
   "source": [
    "If we want to see how our model performs on the test set, we can plot the ranking metrics for increasing value of K, which is the number of items to recommend."
   ]
  },
  {
   "cell_type": "code",
   "execution_count": 47,
   "metadata": {},
   "outputs": [
    {
     "name": "stderr",
     "output_type": "stream",
     "text": [
      "100%|██████████| 4078/4078 [00:01<00:00, 3019.73it/s]\n",
      "100%|██████████| 4078/4078 [00:01<00:00, 3327.56it/s]\n",
      "100%|██████████| 4078/4078 [00:01<00:00, 2813.13it/s]\n",
      "100%|██████████| 4078/4078 [00:01<00:00, 2876.22it/s]\n",
      "100%|██████████| 4078/4078 [00:01<00:00, 3010.53it/s]\n",
      "100%|██████████| 4078/4078 [00:01<00:00, 3086.51it/s]\n",
      "100%|██████████| 4078/4078 [00:01<00:00, 2774.02it/s]\n",
      "100%|██████████| 4078/4078 [00:01<00:00, 2728.00it/s]\n",
      "100%|██████████| 4078/4078 [00:01<00:00, 2918.43it/s]\n",
      "100%|██████████| 4078/4078 [00:01<00:00, 2834.51it/s]\n"
     ]
    }
   ],
   "source": [
    "metrics_eval_df = pd.DataFrame(columns=['K', 'precision', 'map', 'ndcg', 'auc'])\n",
    "\n",
    "for k in np.arange(5, 55, 5):\n",
    "    metrics = ranking_metrics_at_k(model, train, test, K=k)\n",
    "    metrics['K'] = k\n",
    "    metrics_eval_df.loc[len(metrics_eval_df)] = metrics"
   ]
  },
  {
   "cell_type": "code",
   "execution_count": 57,
   "metadata": {},
   "outputs": [
    {
     "data": {
      "image/png": "[encoded data removed]",
      "text/plain": [
       "<Figure size 1000x500 with 1 Axes>"
      ]
     },
     "metadata": {},
     "output_type": "display_data"
    }
   ],
   "source": [
    "metrics_eval_df.plot(x='K', y=['precision', 'map', 'ndcg', 'auc'], figsize=(10, 5), title='Metrics at K', grid=True)\n",
    "plt.tight_layout()\n",
    "plt.show()"
   ]
  },
  {
   "cell_type": "markdown",
   "metadata": {},
   "source": [
    "In conclusion, the interpretation of results in recommendation systems can be somewhat complex. This complexity arises from the inherent nature of these systems, which often involve intricate algorithms and large datasets. \n",
    "\n",
    "To address this challenge, we divided our data into training and testing sets. This approach allowed us to evaluate the performance of our recommendation system on unseen data, providing a more robust and reliable measure of its effectiveness. Specifically, we were able to assess whether items in the test set would indeed be recommended to the corresponding user.\n",
    "\n",
    "Our analysis revealed several key trends. Firstly, the Area Under the Curve (AUC) at `k` increased as we expanded the number of items included in the suggestions. While this may seem trivial, it is a crucial aspect of recommendation systems, demonstrating their ability to effectively rank a larger pool of items.\n",
    "\n",
    "Secondly, we observed that both the Normalized Discounted Cumulative Gain (NDCG) at `k` and Precision at `k` followed the same trend. This similarity is significant as both these metrics are critical for evaluating the quality of our recommendations.\n",
    "\n",
    "Finally, we also examined the Mean Average Precision (MAP) at `k`, another important metric in recommendation systems. MAP@k provides a single-figure measure of quality across recall levels, making it a valuable tool for comparing different recommendation approaches.\n",
    "\n",
    "In summary, while interpreting results in recommendation systems can be challenging, careful methodological choices and rigorous evaluation can provide valuable insights into their performance and effectiveness. By leveraging various metrics and testing on unseen data, we can ensure that our recommendation system is not only robust and reliable but also capable of delivering high-quality recommendations."
   ]
  }
 ],
 "metadata": {
  "kernelspec": {
   "display_name": "Python 3",
   "language": "python",
   "name": "python3"
  },
  "language_info": {
   "codemirror_mode": {
    "name": "ipython",
    "version": 3
   },
   "file_extension": ".py",
   "mimetype": "text/x-python",
   "name": "python",
   "nbconvert_exporter": "python",
   "pygments_lexer": "ipython3",
   "version": "3.11.4"
  }
 },
 "nbformat": 4,
 "nbformat_minor": 2
}
